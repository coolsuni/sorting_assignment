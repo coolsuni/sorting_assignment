{
 "cells": [
  {
   "cell_type": "code",
   "execution_count": 53,
   "id": "73ba70b0-63d2-433f-86fd-f37efb3a68a3",
   "metadata": {},
   "outputs": [],
   "source": [
    "#1) an array of n numbers, give an algorithm which gives the element appearing maximum\n",
    "#   number of times?"
   ]
  },
  {
   "cell_type": "code",
   "execution_count": 66,
   "id": "434ea170-6ab5-47f3-a4c3-504447761851",
   "metadata": {},
   "outputs": [],
   "source": [
    "def max_repeating_element(arr):\n",
    "    max_counter = 0\n",
    "    element = 0\n",
    "    for i in range(len(arr)):\n",
    "        counter = 1\n",
    "        for j in range(i + 1, len(arrA)):\n",
    "            if arr[i] == arr[j]:\n",
    "                counter += 1\n",
    "        if max_counter < counter:\n",
    "            max_counter = counter\n",
    "            element = arr[i]\n",
    "    print(\"Element repeating maximum no of times:\", element, \", maximum count:\", max_counter)"
   ]
  },
  {
   "cell_type": "code",
   "execution_count": 68,
   "id": "397e48ca-f448-4af3-9ea5-00bea46ffad8",
   "metadata": {},
   "outputs": [
    {
     "name": "stdout",
     "output_type": "stream",
     "text": [
      "Element repeating maximum no of times: 5 , maximum count: 3\n"
     ]
    }
   ],
   "source": [
    "if __name__ == \"__main__\":\n",
    "    arr = [4, 1, 5, 2, 1, 5, 9, 8, 6, 5, 3, 2, 4, 7]\n",
    "    max_repeating_element(arr)"
   ]
  },
  {
   "cell_type": "code",
   "execution_count": 69,
   "id": "0a1146dc-bc51-495b-8ae7-bbd2068c4939",
   "metadata": {},
   "outputs": [],
   "source": [
    "#2) We are given a list of n-1 integers and these integers are in the range of 1 to n . There are no\n",
    "#duplicates in the list. One of the integers is missing in the list. Give an algorithm to find that element Ex:\n",
    "#[1,2,4,6,3,7,8] 5 is the missing num.\n"
   ]
  },
  {
   "cell_type": "code",
   "execution_count": 89,
   "id": "3a3d5021-c894-4f33-a20b-33ef8bd39b2e",
   "metadata": {},
   "outputs": [],
   "source": [
    "def MissingNo(arr):\n",
    "    n = len(arr)\n",
    "    total = (n + 1)*(n + 2)/2       #to calculate sum og the array and print the number that is missing\n",
    "    arr_sum = sum(arr)\n",
    "    return total - arr_sum"
   ]
  },
  {
   "cell_type": "code",
   "execution_count": 90,
   "id": "979a59b8-d138-4bce-b069-2d59c9837fa4",
   "metadata": {},
   "outputs": [],
   "source": [
    "arr=[1,2,4,6,3,7,8]"
   ]
  },
  {
   "cell_type": "code",
   "execution_count": 91,
   "id": "60cabbac-3bfd-481c-8f94-79e73a1f4eaa",
   "metadata": {},
   "outputs": [
    {
     "name": "stdout",
     "output_type": "stream",
     "text": [
      "Missing number is: 5.0\n"
     ]
    }
   ],
   "source": [
    "missing_number = MissingNo(arr)\n",
    "print(\"Missing number is:\", missing_number)"
   ]
  },
  {
   "cell_type": "code",
   "execution_count": null,
   "id": "2f5bdbdf-21d8-43cf-a825-6a2ae547a819",
   "metadata": {},
   "outputs": [],
   "source": [
    "#3) Given an array of n positive numbers. All numbers occurs even number of times except 1 which\n",
    "#occurs odd number of times. Find that number in O(n) time and O(1) space. Ex: [1,2,3,2,3,1,3]. 3 is repeats odd\n",
    "#times.\n"
   ]
  },
  {
   "cell_type": "code",
   "execution_count": 92,
   "id": "0c15333b-177e-498f-9347-ac21ba3fbf0d",
   "metadata": {},
   "outputs": [],
   "source": [
    "def getOddOccurrence(arr, arr_size):\n",
    "    \n",
    "    for i in range(0,arr_size):               #outer loop to count all elements one by one\n",
    "        count = 0\n",
    "        for j in range(0, arr_size):          #inner loop to count their occurences\n",
    "            if arr[i] == arr[j]:\n",
    "                count+=1\n",
    "            \n",
    "        if (count % 2 != 0):                  #to count odd occurences of elements\n",
    "            return arr[i]\n",
    "        \n",
    "    return -1"
   ]
  },
  {
   "cell_type": "code",
   "execution_count": 93,
   "id": "1e44757f-f6d3-4d7b-af0e-5ae38bd0e3e3",
   "metadata": {},
   "outputs": [
    {
     "name": "stdout",
     "output_type": "stream",
     "text": [
      "3\n"
     ]
    }
   ],
   "source": [
    "arr = [1,2,3,2,3,1,3]\n",
    "n = len(arr)\n",
    "print(getOddOccurrence(arr, n))"
   ]
  },
  {
   "cell_type": "code",
   "execution_count": 94,
   "id": "29ee7409-b9f8-4ac9-ac99-dcf64367b2ab",
   "metadata": {},
   "outputs": [],
   "source": [
    "#4) Given an array of n elements. Find two elements in the array such that their sum is equal to given\n",
    "#element K.\n"
   ]
  },
  {
   "cell_type": "code",
   "execution_count": 95,
   "id": "127c32ee-86b8-48c0-9ca7-8d11a70c32db",
   "metadata": {},
   "outputs": [],
   "source": [
    "def chkPair(A, size, x):\n",
    "    for i in range(0, size - 1):\n",
    "        for j in range(i + 1, size):\n",
    "            if (A[i] + A[j] == x):\n",
    "                return 1\n",
    "    return 0"
   ]
  },
  {
   "cell_type": "code",
   "execution_count": 96,
   "id": "af5b9f9b-472a-46b7-b361-ec1627d2f665",
   "metadata": {},
   "outputs": [],
   "source": [
    "if __name__ == \"__main__\":\n",
    "    A = [1,3,2,4,1]\n",
    "    x = 2\n",
    "    size = len(A)"
   ]
  },
  {
   "cell_type": "code",
   "execution_count": 97,
   "id": "9f22a369-fd92-49f7-ba89-2d5b3e7e625e",
   "metadata": {},
   "outputs": [
    {
     "name": "stdout",
     "output_type": "stream",
     "text": [
      "Yes\n"
     ]
    }
   ],
   "source": [
    "    if (chkPair(A, size, x)):\n",
    "        print(\"Yes\")\n",
    "\n",
    "    else:\n",
    "        print(\"No\")\n",
    "\n",
    "   "
   ]
  },
  {
   "cell_type": "code",
   "execution_count": 98,
   "id": "0e43041a-3dd0-4b70-acae-1c7f0f7a201f",
   "metadata": {},
   "outputs": [],
   "source": [
    "#5) Given an array of both positive and negative numbers, find two numbers such that their sum is\n",
    "#  closest to 0. Ex: [ 1 ,60 ,-10, 70, -80,85]. Ans : -80,85\n",
    "\n"
   ]
  },
  {
   "cell_type": "code",
   "execution_count": 104,
   "id": "312fcf22-01ed-414c-b86d-b52e5696560d",
   "metadata": {},
   "outputs": [],
   "source": [
    "def minAbsSumPair(arr):\n",
    "    \n",
    "    l, r, min_sum, min_l, min_r = 0, 1, arr[0] + arr[1], 0, 1\n",
    "\n",
    "    for l in range(len(arr) - 1):\n",
    "            for r in range(l + 1, len(arr)):\n",
    "                sum_pair = arr[l] + arr[r]\n",
    "         \n",
    "            if abs(min_sum) > abs(sum_pair):\n",
    "                min_sum = sum_pair\n",
    "                min_l, min_r = l, r\n",
    "\n",
    "    return arr[min_l] + arr[min_r]"
   ]
  },
  {
   "cell_type": "code",
   "execution_count": 105,
   "id": "48df568b-bdc5-49d8-aa0d-3c80207e7ff7",
   "metadata": {},
   "outputs": [
    {
     "name": "stdout",
     "output_type": "stream",
     "text": [
      "5\n"
     ]
    }
   ],
   "source": [
    "if __name__ == \"__main__\":\n",
    " \n",
    "    arr = [1, 60, -10, 70, -80, 85]\n",
    "    result = minAbsSumPair(arr)\n",
    "    print(result)"
   ]
  },
  {
   "cell_type": "code",
   "execution_count": null,
   "id": "9df3b749-835f-4336-9d8d-8aa81ea0498f",
   "metadata": {},
   "outputs": [],
   "source": [
    "#6) Given an array of n elements . Find three elements such that their sum is equal to the given\n",
    "#number.\n"
   ]
  },
  {
   "cell_type": "code",
   "execution_count": 108,
   "id": "74696a7c-92ca-47c0-ac93-ed4b2cbe7e7c",
   "metadata": {},
   "outputs": [],
   "source": [
    "def find(arr, k):\n",
    "    for i in range(len(arr)):\n",
    "        for j in range(i + 1, len(arr)):\n",
    "            for l in range(j + 1, len(arr)):\n",
    "                if arr[i] + arr[j] + arr[l] == k:\n",
    "                    print(f\"Found 3 elements whose sum is = {k}\")\n",
    "                    print(f\"Elements are {arr[i]} {arr[j]} {arr[l]}\")\n",
    "                    return\n",
    "\n",
    "    print(f\"Did not find 3 elements whose sum is = {k}\")"
   ]
  },
  {
   "cell_type": "code",
   "execution_count": 109,
   "id": "a71193c4-58bf-43d9-90a8-0d399d11e705",
   "metadata": {},
   "outputs": [
    {
     "name": "stdout",
     "output_type": "stream",
     "text": [
      "Found 3 elements whose sum is = 21\n",
      "Elements are 2 9 10\n"
     ]
    }
   ],
   "source": [
    "arr = [1,2,3,4,5,6,7,8,9,10]\n",
    "k = 21\n",
    "find(arr, k)"
   ]
  },
  {
   "cell_type": "code",
   "execution_count": 110,
   "id": "203dad0c-891a-4cf0-898b-3e0b41a41b41",
   "metadata": {},
   "outputs": [],
   "source": [
    "#8) An element is a majority if it appears more than n/2 times. Give an algorithm takes an array of n\n",
    "#  element as argument and identifies a majority (if it exists).\n"
   ]
  },
  {
   "cell_type": "code",
   "execution_count": 114,
   "id": "862702b3-12e2-4c13-b838-1f8b46b0cd91",
   "metadata": {},
   "outputs": [],
   "source": [
    "def findMajority(arr, n):\n",
    "\n",
    "    maxCount = 0\n",
    "    index = -1 \n",
    "    for i in range(n):\n",
    "        count = 1\n",
    "        for j in range(i+1, n):\n",
    "            if(arr[i] == arr[j]):\n",
    "                count += 1\n",
    " \n",
    "        if(count > maxCount):\n",
    "            maxCount = count\n",
    "            index = i\n",
    "   \n",
    "    if (maxCount > n//2):\n",
    "        print(arr[index])\n",
    "\n",
    "    else:\n",
    "        print(\"No Majority Element\")"
   ]
  },
  {
   "cell_type": "code",
   "execution_count": 116,
   "id": "dcf3864b-7dd8-4a94-9e0a-630becf44b1a",
   "metadata": {},
   "outputs": [],
   "source": [
    "if __name__ == \"__main__\":\n",
    "    arr = [1,2,3,4,5,5,5,6]\n",
    "    n = len(arr)"
   ]
  },
  {
   "cell_type": "code",
   "execution_count": 117,
   "id": "82bee647-1611-4915-b190-318db20df052",
   "metadata": {},
   "outputs": [
    {
     "name": "stdout",
     "output_type": "stream",
     "text": [
      "No Majority Element\n"
     ]
    }
   ],
   "source": [
    "findMajority(arr, n)"
   ]
  },
  {
   "cell_type": "code",
   "execution_count": 118,
   "id": "b9b70598-0d7c-4b44-83fd-308dfa4563dd",
   "metadata": {},
   "outputs": [],
   "source": [
    "#9) Given n × n matrix, and in each row all 1’s are followed by 0’s. Find the row with the maximum\n",
    "#number of 0’s.\n"
   ]
  },
  {
   "cell_type": "code",
   "execution_count": 122,
   "id": "316ceadd-4804-4e3b-b54f-7fc9f7b8a426",
   "metadata": {},
   "outputs": [],
   "source": [
    "N = 4\n",
    " \n",
    "def findMax (arr):\n",
    "    row = 0\n",
    "    j = N - 1\n",
    "    for i in range(0, N):\n",
    "        while (arr[i][j] == 0\n",
    "                     and j >= 0):\n",
    "            row = i\n",
    "            j -= 1\n",
    "         \n",
    "    print(\"Row number = \" , row + 1,\n",
    "         \", MaxCount = \", N - 1 - j)"
   ]
  },
  {
   "cell_type": "code",
   "execution_count": 123,
   "id": "3afccbd5-c3b5-457c-9f9b-bb403a7d6359",
   "metadata": {},
   "outputs": [],
   "source": [
    "arr = [ [0, 0, 0, 1],\n",
    "        [0, 0, 0, 1],\n",
    "        [0, 0, 0, 0],\n",
    "        [0, 1, 1, 1] ]"
   ]
  },
  {
   "cell_type": "code",
   "execution_count": 124,
   "id": "9d30e21b-f624-443f-8155-e3a17610be86",
   "metadata": {},
   "outputs": [
    {
     "name": "stdout",
     "output_type": "stream",
     "text": [
      "Row number =  3 , MaxCount =  4\n"
     ]
    }
   ],
   "source": [
    "findMax(arr)"
   ]
  },
  {
   "cell_type": "code",
   "execution_count": 125,
   "id": "a6eb1ede-97e2-42f1-a30d-a45a87f38c14",
   "metadata": {},
   "outputs": [],
   "source": [
    "#10) Sort an array of 0’s, 1’s and 2’s [or R’s, G’s and B’s]: Given an array A[] consisting of 0’s, 1’s and\n",
    "#2’s, give an algorithm for sorting A[].The algorithm should put all 0’s first, then all 1’s and finally all 2’s at the\n",
    "#end. Example Input = {0,1,1,0,1,2,1,2,0,0,0,1}, Output = {0,0,0,0,0,1,1,1,1,1,2,2}"
   ]
  },
  {
   "cell_type": "code",
   "execution_count": 127,
   "id": "85b5bec8-e328-429f-869b-36bb2768968c",
   "metadata": {},
   "outputs": [
    {
     "name": "stdout",
     "output_type": "stream",
     "text": [
      "[0, 0, 0, 0, 0, 1, 1, 1, 1, 1, 2, 2]\n"
     ]
    }
   ],
   "source": [
    "inputArray = [0, 1, 1, 0, 1, 2, 1, 2, 0, 0, 0, 1]\n",
    "outputArray = []\n",
    "indexOfOne = 0\n",
    "for item in inputArray:\n",
    "\tif item == 2:\n",
    "\t\toutputArray.append(item)\n",
    "\telif item == 1:\n",
    "\t\toutputArray.insert(indexOfOne, item)\n",
    "\t\tindexOfOne += 1\n",
    "\telif item == 0:\n",
    "\t\toutputArray.insert(0, item)\n",
    "\t\tindexOfOne += 1\n",
    "\telse:\n",
    "\t\tprint(\" wrong value\")\n",
    "\t\tcontinue\n",
    "print(outputArray)\n"
   ]
  },
  {
   "cell_type": "code",
   "execution_count": null,
   "id": "e5368d27-49ad-49d0-81fc-a1e244e4c9f9",
   "metadata": {},
   "outputs": [],
   "source": []
  },
  {
   "cell_type": "code",
   "execution_count": null,
   "id": "8dd2f886-54ae-4601-9d28-38c36084b5d5",
   "metadata": {},
   "outputs": [],
   "source": []
  }
 ],
 "metadata": {
  "kernelspec": {
   "display_name": "Python 3 (ipykernel)",
   "language": "python",
   "name": "python3"
  },
  "language_info": {
   "codemirror_mode": {
    "name": "ipython",
    "version": 3
   },
   "file_extension": ".py",
   "mimetype": "text/x-python",
   "name": "python",
   "nbconvert_exporter": "python",
   "pygments_lexer": "ipython3",
   "version": "3.10.8"
  }
 },
 "nbformat": 4,
 "nbformat_minor": 5
}
